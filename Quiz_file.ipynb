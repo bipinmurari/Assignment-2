{
 "cells": [
  {
   "cell_type": "markdown",
   "metadata": {},
   "source": [
    "# Library for importing a json file"
   ]
  },
  {
   "cell_type": "code",
   "execution_count": 46,
   "metadata": {},
   "outputs": [],
   "source": [
    "import json"
   ]
  },
  {
   "cell_type": "code",
   "execution_count": 47,
   "metadata": {},
   "outputs": [],
   "source": [
    "def quiz(file):\n",
    "    with open(file) as json_file:\n",
    "        data = json.load(json_file) \n",
    "    x = list(data.values())\n",
    "    y=list(x[0].keys())\n",
    "    print(\"Select Category\")\n",
    "    print(\"Press 1 for Sport.\")\n",
    "    print(\"Press 2 for Maths.\")\n",
    "    user=input()\n",
    "    answer = []\n",
    "    if user=='1':\n",
    "        temp_dict = data['quiz'][y[0]]\n",
    "        for k,v in temp_dict.items():\n",
    "            z = dict(v)\n",
    "            print(z['question'])\n",
    "            for i in z['options']:\n",
    "                print(i,\"\\n\")\n",
    "            answer.append(input(\"\\nEnter the answer:\"))\n",
    "    if user=='2':\n",
    "        temp_dict = data['quiz'][y[1]]\n",
    "        for k,v in temp_dict.items():\n",
    "            z = dict(v)\n",
    "            print(z['question'])\n",
    "            for i in z['options']:\n",
    "                print(i)\n",
    "            answer.append(input(\"\\nEnter the answer:\"))\n",
    "    return answer"
   ]
  },
  {
   "cell_type": "markdown",
   "metadata": {},
   "source": [
    "# Result"
   ]
  },
  {
   "cell_type": "code",
   "execution_count": 48,
   "metadata": {},
   "outputs": [
    {
     "name": "stdout",
     "output_type": "stream",
     "text": [
      "choose quiz file\n",
      "quiz.json\n",
      "Select Category\n",
      "Press 1 for Sport.\n",
      "Press 2 for Maths.\n",
      "1\n",
      "Which one is correct team name in NBA?\n",
      "New York Bulls \n",
      "\n",
      "Los Angeles Kings \n",
      "\n",
      "Golden State Warriros \n",
      "\n",
      "Huston Rocket \n",
      "\n",
      "\n",
      "Enter the answer:mclakscma\n",
      "['mclakscma']\n"
     ]
    }
   ],
   "source": [
    "print(\"choose quiz file\")\n",
    "file=input()\n",
    "print(quiz(file))"
   ]
  },
  {
   "cell_type": "code",
   "execution_count": null,
   "metadata": {},
   "outputs": [],
   "source": []
  }
 ],
 "metadata": {
  "kernelspec": {
   "display_name": "Python 3",
   "language": "python",
   "name": "python3"
  },
  "language_info": {
   "codemirror_mode": {
    "name": "ipython",
    "version": 3
   },
   "file_extension": ".py",
   "mimetype": "text/x-python",
   "name": "python",
   "nbconvert_exporter": "python",
   "pygments_lexer": "ipython3",
   "version": "3.7.1"
  }
 },
 "nbformat": 4,
 "nbformat_minor": 2
}
